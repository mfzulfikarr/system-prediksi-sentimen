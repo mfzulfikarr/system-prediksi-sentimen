{
  "nbformat": 4,
  "nbformat_minor": 0,
  "metadata": {
    "colab": {
      "provenance": [],
      "collapsed_sections": [
        "TCoP46u3K5yH"
      ]
    },
    "kernelspec": {
      "name": "python3",
      "display_name": "Python 3"
    },
    "language_info": {
      "name": "python"
    },
    "accelerator": "GPU",
    "gpuClass": "standard"
  },
  "cells": [
    {
      "cell_type": "code",
      "source": [
        "!git clone https://github.com/mfzulfikarr/kumpulandataset"
      ],
      "metadata": {
        "colab": {
          "base_uri": "https://localhost:8080/"
        },
        "id": "ZusJhvFQr3Nk",
        "outputId": "7c3dcebf-df6d-48b3-e5ba-d664a676fc8b"
      },
      "execution_count": 1,
      "outputs": [
        {
          "output_type": "stream",
          "name": "stdout",
          "text": [
            "Cloning into 'kumpulandataset'...\n",
            "remote: Enumerating objects: 59, done.\u001b[K\n",
            "remote: Total 59 (delta 0), reused 0 (delta 0), pack-reused 59\u001b[K\n",
            "Unpacking objects: 100% (59/59), 650.84 KiB | 2.41 MiB/s, done.\n"
          ]
        }
      ]
    },
    {
      "cell_type": "markdown",
      "source": [
        "# Using Data from kaggle"
      ],
      "metadata": {
        "id": "TCoP46u3K5yH"
      }
    },
    {
      "cell_type": "code",
      "source": [
        "!pip install transformers"
      ],
      "metadata": {
        "colab": {
          "base_uri": "https://localhost:8080/"
        },
        "outputId": "73d0c21a-d78d-4248-e99a-39ccab747aa3",
        "id": "npJ1POmRK5yH"
      },
      "execution_count": 2,
      "outputs": [
        {
          "output_type": "stream",
          "name": "stdout",
          "text": [
            "Looking in indexes: https://pypi.org/simple, https://us-python.pkg.dev/colab-wheels/public/simple/\n",
            "Collecting transformers\n",
            "  Downloading transformers-4.25.1-py3-none-any.whl (5.8 MB)\n",
            "\u001b[2K     \u001b[90m━━━━━━━━━━━━━━━━━━━━━━━━━━━━━━━━━━━━━━━━\u001b[0m \u001b[32m5.8/5.8 MB\u001b[0m \u001b[31m45.1 MB/s\u001b[0m eta \u001b[36m0:00:00\u001b[0m\n",
            "\u001b[?25hRequirement already satisfied: packaging>=20.0 in /usr/local/lib/python3.8/dist-packages (from transformers) (21.3)\n",
            "Requirement already satisfied: requests in /usr/local/lib/python3.8/dist-packages (from transformers) (2.25.1)\n",
            "Requirement already satisfied: numpy>=1.17 in /usr/local/lib/python3.8/dist-packages (from transformers) (1.21.6)\n",
            "Collecting huggingface-hub<1.0,>=0.10.0\n",
            "  Downloading huggingface_hub-0.11.1-py3-none-any.whl (182 kB)\n",
            "\u001b[2K     \u001b[90m━━━━━━━━━━━━━━━━━━━━━━━━━━━━━━━━━━━━━━\u001b[0m \u001b[32m182.4/182.4 KB\u001b[0m \u001b[31m11.4 MB/s\u001b[0m eta \u001b[36m0:00:00\u001b[0m\n",
            "\u001b[?25hRequirement already satisfied: pyyaml>=5.1 in /usr/local/lib/python3.8/dist-packages (from transformers) (6.0)\n",
            "Requirement already satisfied: filelock in /usr/local/lib/python3.8/dist-packages (from transformers) (3.9.0)\n",
            "Collecting tokenizers!=0.11.3,<0.14,>=0.11.1\n",
            "  Downloading tokenizers-0.13.2-cp38-cp38-manylinux_2_17_x86_64.manylinux2014_x86_64.whl (7.6 MB)\n",
            "\u001b[2K     \u001b[90m━━━━━━━━━━━━━━━━━━━━━━━━━━━━━━━━━━━━━━━━\u001b[0m \u001b[32m7.6/7.6 MB\u001b[0m \u001b[31m59.7 MB/s\u001b[0m eta \u001b[36m0:00:00\u001b[0m\n",
            "\u001b[?25hRequirement already satisfied: regex!=2019.12.17 in /usr/local/lib/python3.8/dist-packages (from transformers) (2022.6.2)\n",
            "Requirement already satisfied: tqdm>=4.27 in /usr/local/lib/python3.8/dist-packages (from transformers) (4.64.1)\n",
            "Requirement already satisfied: typing-extensions>=3.7.4.3 in /usr/local/lib/python3.8/dist-packages (from huggingface-hub<1.0,>=0.10.0->transformers) (4.4.0)\n",
            "Requirement already satisfied: pyparsing!=3.0.5,>=2.0.2 in /usr/local/lib/python3.8/dist-packages (from packaging>=20.0->transformers) (3.0.9)\n",
            "Requirement already satisfied: certifi>=2017.4.17 in /usr/local/lib/python3.8/dist-packages (from requests->transformers) (2022.12.7)\n",
            "Requirement already satisfied: idna<3,>=2.5 in /usr/local/lib/python3.8/dist-packages (from requests->transformers) (2.10)\n",
            "Requirement already satisfied: chardet<5,>=3.0.2 in /usr/local/lib/python3.8/dist-packages (from requests->transformers) (4.0.0)\n",
            "Requirement already satisfied: urllib3<1.27,>=1.21.1 in /usr/local/lib/python3.8/dist-packages (from requests->transformers) (1.24.3)\n",
            "Installing collected packages: tokenizers, huggingface-hub, transformers\n",
            "Successfully installed huggingface-hub-0.11.1 tokenizers-0.13.2 transformers-4.25.1\n"
          ]
        }
      ]
    },
    {
      "cell_type": "code",
      "execution_count": 42,
      "metadata": {
        "id": "01VH0znFK5yI"
      },
      "outputs": [],
      "source": [
        "import matplotlib.pyplot as plt\n",
        "import numpy as np\n",
        "import pandas as pd\n",
        "import random\n",
        "import re\n",
        "import seaborn as sns\n",
        "import tensorflow as tf\n",
        "import transformers"
      ]
    },
    {
      "cell_type": "code",
      "source": [
        "data = pd.read_csv('https://raw.githubusercontent.com/mfzulfikarr/kumpulandataset/main/Dataset_sentiment_analysis/Kaggle/Dataset%20Kaggle.csv')\n",
        "# data = pd.read_excel('Dataset_kaggle_edt.xlsx')\n",
        "# data = data.to_csv('Dataset_kaggle_edt.csv')\n",
        "# data = pd.read_csv('Dataset_kaggle_edt.csv')\n",
        "data.head()"
      ],
      "metadata": {
        "colab": {
          "base_uri": "https://localhost:8080/",
          "height": 206
        },
        "outputId": "9ee2c12f-e007-4292-8e7b-3605ce35b5ea",
        "id": "nQxhrs76K5yI"
      },
      "execution_count": 43,
      "outputs": [
        {
          "output_type": "execute_result",
          "data": {
            "text/plain": [
              "  Sentiment                                         Text Tweet\n",
              "0     cinta  Setiap kesempatan yg pernah hadir tuk dapat me...\n",
              "1     cinta  kan kupeluk engkau erat2 hingga tak ada seoran...\n",
              "2     cinta  Kenapa pasangan seringkali diibaratkan sebagai...\n",
              "3     cinta  Ku rindu bisik mu di telingaku Seraya kau berk...\n",
              "4     cinta  halohaa selamat siang Denise Udah pulang sekol..."
            ],
            "text/html": [
              "\n",
              "  <div id=\"df-1cbf3872-e051-4bd9-ad82-d7d91f7763a8\">\n",
              "    <div class=\"colab-df-container\">\n",
              "      <div>\n",
              "<style scoped>\n",
              "    .dataframe tbody tr th:only-of-type {\n",
              "        vertical-align: middle;\n",
              "    }\n",
              "\n",
              "    .dataframe tbody tr th {\n",
              "        vertical-align: top;\n",
              "    }\n",
              "\n",
              "    .dataframe thead th {\n",
              "        text-align: right;\n",
              "    }\n",
              "</style>\n",
              "<table border=\"1\" class=\"dataframe\">\n",
              "  <thead>\n",
              "    <tr style=\"text-align: right;\">\n",
              "      <th></th>\n",
              "      <th>Sentiment</th>\n",
              "      <th>Text Tweet</th>\n",
              "    </tr>\n",
              "  </thead>\n",
              "  <tbody>\n",
              "    <tr>\n",
              "      <th>0</th>\n",
              "      <td>cinta</td>\n",
              "      <td>Setiap kesempatan yg pernah hadir tuk dapat me...</td>\n",
              "    </tr>\n",
              "    <tr>\n",
              "      <th>1</th>\n",
              "      <td>cinta</td>\n",
              "      <td>kan kupeluk engkau erat2 hingga tak ada seoran...</td>\n",
              "    </tr>\n",
              "    <tr>\n",
              "      <th>2</th>\n",
              "      <td>cinta</td>\n",
              "      <td>Kenapa pasangan seringkali diibaratkan sebagai...</td>\n",
              "    </tr>\n",
              "    <tr>\n",
              "      <th>3</th>\n",
              "      <td>cinta</td>\n",
              "      <td>Ku rindu bisik mu di telingaku Seraya kau berk...</td>\n",
              "    </tr>\n",
              "    <tr>\n",
              "      <th>4</th>\n",
              "      <td>cinta</td>\n",
              "      <td>halohaa selamat siang Denise Udah pulang sekol...</td>\n",
              "    </tr>\n",
              "  </tbody>\n",
              "</table>\n",
              "</div>\n",
              "      <button class=\"colab-df-convert\" onclick=\"convertToInteractive('df-1cbf3872-e051-4bd9-ad82-d7d91f7763a8')\"\n",
              "              title=\"Convert this dataframe to an interactive table.\"\n",
              "              style=\"display:none;\">\n",
              "        \n",
              "  <svg xmlns=\"http://www.w3.org/2000/svg\" height=\"24px\"viewBox=\"0 0 24 24\"\n",
              "       width=\"24px\">\n",
              "    <path d=\"M0 0h24v24H0V0z\" fill=\"none\"/>\n",
              "    <path d=\"M18.56 5.44l.94 2.06.94-2.06 2.06-.94-2.06-.94-.94-2.06-.94 2.06-2.06.94zm-11 1L8.5 8.5l.94-2.06 2.06-.94-2.06-.94L8.5 2.5l-.94 2.06-2.06.94zm10 10l.94 2.06.94-2.06 2.06-.94-2.06-.94-.94-2.06-.94 2.06-2.06.94z\"/><path d=\"M17.41 7.96l-1.37-1.37c-.4-.4-.92-.59-1.43-.59-.52 0-1.04.2-1.43.59L10.3 9.45l-7.72 7.72c-.78.78-.78 2.05 0 2.83L4 21.41c.39.39.9.59 1.41.59.51 0 1.02-.2 1.41-.59l7.78-7.78 2.81-2.81c.8-.78.8-2.07 0-2.86zM5.41 20L4 18.59l7.72-7.72 1.47 1.35L5.41 20z\"/>\n",
              "  </svg>\n",
              "      </button>\n",
              "      \n",
              "  <style>\n",
              "    .colab-df-container {\n",
              "      display:flex;\n",
              "      flex-wrap:wrap;\n",
              "      gap: 12px;\n",
              "    }\n",
              "\n",
              "    .colab-df-convert {\n",
              "      background-color: #E8F0FE;\n",
              "      border: none;\n",
              "      border-radius: 50%;\n",
              "      cursor: pointer;\n",
              "      display: none;\n",
              "      fill: #1967D2;\n",
              "      height: 32px;\n",
              "      padding: 0 0 0 0;\n",
              "      width: 32px;\n",
              "    }\n",
              "\n",
              "    .colab-df-convert:hover {\n",
              "      background-color: #E2EBFA;\n",
              "      box-shadow: 0px 1px 2px rgba(60, 64, 67, 0.3), 0px 1px 3px 1px rgba(60, 64, 67, 0.15);\n",
              "      fill: #174EA6;\n",
              "    }\n",
              "\n",
              "    [theme=dark] .colab-df-convert {\n",
              "      background-color: #3B4455;\n",
              "      fill: #D2E3FC;\n",
              "    }\n",
              "\n",
              "    [theme=dark] .colab-df-convert:hover {\n",
              "      background-color: #434B5C;\n",
              "      box-shadow: 0px 1px 3px 1px rgba(0, 0, 0, 0.15);\n",
              "      filter: drop-shadow(0px 1px 2px rgba(0, 0, 0, 0.3));\n",
              "      fill: #FFFFFF;\n",
              "    }\n",
              "  </style>\n",
              "\n",
              "      <script>\n",
              "        const buttonEl =\n",
              "          document.querySelector('#df-1cbf3872-e051-4bd9-ad82-d7d91f7763a8 button.colab-df-convert');\n",
              "        buttonEl.style.display =\n",
              "          google.colab.kernel.accessAllowed ? 'block' : 'none';\n",
              "\n",
              "        async function convertToInteractive(key) {\n",
              "          const element = document.querySelector('#df-1cbf3872-e051-4bd9-ad82-d7d91f7763a8');\n",
              "          const dataTable =\n",
              "            await google.colab.kernel.invokeFunction('convertToInteractive',\n",
              "                                                     [key], {});\n",
              "          if (!dataTable) return;\n",
              "\n",
              "          const docLinkHtml = 'Like what you see? Visit the ' +\n",
              "            '<a target=\"_blank\" href=https://colab.research.google.com/notebooks/data_table.ipynb>data table notebook</a>'\n",
              "            + ' to learn more about interactive tables.';\n",
              "          element.innerHTML = '';\n",
              "          dataTable['output_type'] = 'display_data';\n",
              "          await google.colab.output.renderOutput(dataTable, element);\n",
              "          const docLink = document.createElement('div');\n",
              "          docLink.innerHTML = docLinkHtml;\n",
              "          element.appendChild(docLink);\n",
              "        }\n",
              "      </script>\n",
              "    </div>\n",
              "  </div>\n",
              "  "
            ]
          },
          "metadata": {},
          "execution_count": 43
        }
      ]
    },
    {
      "cell_type": "code",
      "source": [
        "temp = data.groupby('Sentiment').count()['Text Tweet'].reset_index().sort_values(by='Text Tweet', ascending=False)\n",
        "temp.style.background_gradient(cmap='Blues')"
      ],
      "metadata": {
        "id": "fbJtWV5DlqOA",
        "colab": {
          "base_uri": "https://localhost:8080/",
          "height": 206
        },
        "outputId": "70f294d7-8e7f-4ff1-a810-478b9eeffdaf"
      },
      "execution_count": 44,
      "outputs": [
        {
          "output_type": "execute_result",
          "data": {
            "text/plain": [
              "<pandas.io.formats.style.Styler at 0x7f281aa38af0>"
            ],
            "text/html": [
              "<style type=\"text/css\">\n",
              "#T_4eb91_row0_col1 {\n",
              "  background-color: #08306b;\n",
              "  color: #f1f1f1;\n",
              "}\n",
              "#T_4eb91_row1_col1 {\n",
              "  background-color: #135fa7;\n",
              "  color: #f1f1f1;\n",
              "}\n",
              "#T_4eb91_row2_col1 {\n",
              "  background-color: #1c6ab0;\n",
              "  color: #f1f1f1;\n",
              "}\n",
              "#T_4eb91_row3_col1 {\n",
              "  background-color: #f2f8fd;\n",
              "  color: #000000;\n",
              "}\n",
              "#T_4eb91_row4_col1 {\n",
              "  background-color: #f7fbff;\n",
              "  color: #000000;\n",
              "}\n",
              "</style>\n",
              "<table id=\"T_4eb91_\" class=\"dataframe\">\n",
              "  <thead>\n",
              "    <tr>\n",
              "      <th class=\"blank level0\" >&nbsp;</th>\n",
              "      <th class=\"col_heading level0 col0\" >Sentiment</th>\n",
              "      <th class=\"col_heading level0 col1\" >Text Tweet</th>\n",
              "    </tr>\n",
              "  </thead>\n",
              "  <tbody>\n",
              "    <tr>\n",
              "      <th id=\"T_4eb91_level0_row0\" class=\"row_heading level0 row0\" >1</th>\n",
              "      <td id=\"T_4eb91_row0_col0\" class=\"data row0 col0\" >marah</td>\n",
              "      <td id=\"T_4eb91_row0_col1\" class=\"data row0 col1\" >1101</td>\n",
              "    </tr>\n",
              "    <tr>\n",
              "      <th id=\"T_4eb91_level0_row1\" class=\"row_heading level0 row1\" >3</th>\n",
              "      <td id=\"T_4eb91_row1_col0\" class=\"data row1 col0\" >senang</td>\n",
              "      <td id=\"T_4eb91_row1_col1\" class=\"data row1 col1\" >1017</td>\n",
              "    </tr>\n",
              "    <tr>\n",
              "      <th id=\"T_4eb91_level0_row2\" class=\"row_heading level0 row2\" >2</th>\n",
              "      <td id=\"T_4eb91_row2_col0\" class=\"data row2 col0\" >sedih</td>\n",
              "      <td id=\"T_4eb91_row2_col1\" class=\"data row2 col1\" >997</td>\n",
              "    </tr>\n",
              "    <tr>\n",
              "      <th id=\"T_4eb91_level0_row3\" class=\"row_heading level0 row3\" >4</th>\n",
              "      <td id=\"T_4eb91_row3_col0\" class=\"data row3 col0\" >takut</td>\n",
              "      <td id=\"T_4eb91_row3_col1\" class=\"data row3 col1\" >649</td>\n",
              "    </tr>\n",
              "    <tr>\n",
              "      <th id=\"T_4eb91_level0_row4\" class=\"row_heading level0 row4\" >0</th>\n",
              "      <td id=\"T_4eb91_row4_col0\" class=\"data row4 col0\" >cinta</td>\n",
              "      <td id=\"T_4eb91_row4_col1\" class=\"data row4 col1\" >637</td>\n",
              "    </tr>\n",
              "  </tbody>\n",
              "</table>\n"
            ]
          },
          "metadata": {},
          "execution_count": 44
        }
      ]
    },
    {
      "cell_type": "code",
      "source": [
        "# data.drop(columns=['Id'], inplace=True)\n",
        "# data.replace(to_replace='negative', value=0, inplace=True)\n",
        "# data.replace(to_replace='positive', value=1, inplace=True)\n",
        "# data.replace(to_replace='marah', value=0, inplace=True)\n",
        "# data.replace(to_replace='cinta', value=1, inplace=True)\n",
        "# data.replace(to_replace='sedih', value=2, inplace=True)\n",
        "# data.replace(to_replace='senang', value=3, inplace=True)\n",
        "# data.replace(to_replace='takut', value=4, inplace=True)"
      ],
      "metadata": {
        "id": "lb7oK9UupBr0"
      },
      "execution_count": 45,
      "outputs": []
    },
    {
      "cell_type": "code",
      "source": [
        "emosi = ['marah', 'cinta', 'sedih', 'senang', 'takut']\n",
        "i = 0\n",
        "for e in emosi:\n",
        "  data.replace(to_replace=e, value=i, inplace=True)\n",
        "  i+=1\n",
        "  \n",
        "data = data[['Text Tweet', 'Sentiment']]\n",
        "data"
      ],
      "metadata": {
        "colab": {
          "base_uri": "https://localhost:8080/",
          "height": 424
        },
        "outputId": "c4e18d4a-453e-4e43-fe14-ba65473919a3",
        "id": "7bAcIv35K5yI"
      },
      "execution_count": 46,
      "outputs": [
        {
          "output_type": "execute_result",
          "data": {
            "text/plain": [
              "                                             Text Tweet  Sentiment\n",
              "0     Setiap kesempatan yg pernah hadir tuk dapat me...          1\n",
              "1     kan kupeluk engkau erat2 hingga tak ada seoran...          1\n",
              "2     Kenapa pasangan seringkali diibaratkan sebagai...          1\n",
              "3     Ku rindu bisik mu di telingaku Seraya kau berk...          1\n",
              "4     halohaa selamat siang Denise Udah pulang sekol...          1\n",
              "...                                                 ...        ...\n",
              "4396  Eh barusan temen w satunya cerita katanya do'i...          4\n",
              "4397  Patut x aq buka hati aq utk terima org lain? T...          4\n",
              "4398  Apa darenya? \"Kalo ada salah satu yang pergi, ...          4\n",
              "4399  [USERNAME] Anti bank bank club. Gue jadi kepo ...          4\n",
              "4400  Sulitnya menetapkan Calon Wapresnya Jokowi di ...          4\n",
              "\n",
              "[4401 rows x 2 columns]"
            ],
            "text/html": [
              "\n",
              "  <div id=\"df-5aef0c74-3a9e-4c17-a405-57aa3a878bf0\">\n",
              "    <div class=\"colab-df-container\">\n",
              "      <div>\n",
              "<style scoped>\n",
              "    .dataframe tbody tr th:only-of-type {\n",
              "        vertical-align: middle;\n",
              "    }\n",
              "\n",
              "    .dataframe tbody tr th {\n",
              "        vertical-align: top;\n",
              "    }\n",
              "\n",
              "    .dataframe thead th {\n",
              "        text-align: right;\n",
              "    }\n",
              "</style>\n",
              "<table border=\"1\" class=\"dataframe\">\n",
              "  <thead>\n",
              "    <tr style=\"text-align: right;\">\n",
              "      <th></th>\n",
              "      <th>Text Tweet</th>\n",
              "      <th>Sentiment</th>\n",
              "    </tr>\n",
              "  </thead>\n",
              "  <tbody>\n",
              "    <tr>\n",
              "      <th>0</th>\n",
              "      <td>Setiap kesempatan yg pernah hadir tuk dapat me...</td>\n",
              "      <td>1</td>\n",
              "    </tr>\n",
              "    <tr>\n",
              "      <th>1</th>\n",
              "      <td>kan kupeluk engkau erat2 hingga tak ada seoran...</td>\n",
              "      <td>1</td>\n",
              "    </tr>\n",
              "    <tr>\n",
              "      <th>2</th>\n",
              "      <td>Kenapa pasangan seringkali diibaratkan sebagai...</td>\n",
              "      <td>1</td>\n",
              "    </tr>\n",
              "    <tr>\n",
              "      <th>3</th>\n",
              "      <td>Ku rindu bisik mu di telingaku Seraya kau berk...</td>\n",
              "      <td>1</td>\n",
              "    </tr>\n",
              "    <tr>\n",
              "      <th>4</th>\n",
              "      <td>halohaa selamat siang Denise Udah pulang sekol...</td>\n",
              "      <td>1</td>\n",
              "    </tr>\n",
              "    <tr>\n",
              "      <th>...</th>\n",
              "      <td>...</td>\n",
              "      <td>...</td>\n",
              "    </tr>\n",
              "    <tr>\n",
              "      <th>4396</th>\n",
              "      <td>Eh barusan temen w satunya cerita katanya do'i...</td>\n",
              "      <td>4</td>\n",
              "    </tr>\n",
              "    <tr>\n",
              "      <th>4397</th>\n",
              "      <td>Patut x aq buka hati aq utk terima org lain? T...</td>\n",
              "      <td>4</td>\n",
              "    </tr>\n",
              "    <tr>\n",
              "      <th>4398</th>\n",
              "      <td>Apa darenya? \"Kalo ada salah satu yang pergi, ...</td>\n",
              "      <td>4</td>\n",
              "    </tr>\n",
              "    <tr>\n",
              "      <th>4399</th>\n",
              "      <td>[USERNAME] Anti bank bank club. Gue jadi kepo ...</td>\n",
              "      <td>4</td>\n",
              "    </tr>\n",
              "    <tr>\n",
              "      <th>4400</th>\n",
              "      <td>Sulitnya menetapkan Calon Wapresnya Jokowi di ...</td>\n",
              "      <td>4</td>\n",
              "    </tr>\n",
              "  </tbody>\n",
              "</table>\n",
              "<p>4401 rows × 2 columns</p>\n",
              "</div>\n",
              "      <button class=\"colab-df-convert\" onclick=\"convertToInteractive('df-5aef0c74-3a9e-4c17-a405-57aa3a878bf0')\"\n",
              "              title=\"Convert this dataframe to an interactive table.\"\n",
              "              style=\"display:none;\">\n",
              "        \n",
              "  <svg xmlns=\"http://www.w3.org/2000/svg\" height=\"24px\"viewBox=\"0 0 24 24\"\n",
              "       width=\"24px\">\n",
              "    <path d=\"M0 0h24v24H0V0z\" fill=\"none\"/>\n",
              "    <path d=\"M18.56 5.44l.94 2.06.94-2.06 2.06-.94-2.06-.94-.94-2.06-.94 2.06-2.06.94zm-11 1L8.5 8.5l.94-2.06 2.06-.94-2.06-.94L8.5 2.5l-.94 2.06-2.06.94zm10 10l.94 2.06.94-2.06 2.06-.94-2.06-.94-.94-2.06-.94 2.06-2.06.94z\"/><path d=\"M17.41 7.96l-1.37-1.37c-.4-.4-.92-.59-1.43-.59-.52 0-1.04.2-1.43.59L10.3 9.45l-7.72 7.72c-.78.78-.78 2.05 0 2.83L4 21.41c.39.39.9.59 1.41.59.51 0 1.02-.2 1.41-.59l7.78-7.78 2.81-2.81c.8-.78.8-2.07 0-2.86zM5.41 20L4 18.59l7.72-7.72 1.47 1.35L5.41 20z\"/>\n",
              "  </svg>\n",
              "      </button>\n",
              "      \n",
              "  <style>\n",
              "    .colab-df-container {\n",
              "      display:flex;\n",
              "      flex-wrap:wrap;\n",
              "      gap: 12px;\n",
              "    }\n",
              "\n",
              "    .colab-df-convert {\n",
              "      background-color: #E8F0FE;\n",
              "      border: none;\n",
              "      border-radius: 50%;\n",
              "      cursor: pointer;\n",
              "      display: none;\n",
              "      fill: #1967D2;\n",
              "      height: 32px;\n",
              "      padding: 0 0 0 0;\n",
              "      width: 32px;\n",
              "    }\n",
              "\n",
              "    .colab-df-convert:hover {\n",
              "      background-color: #E2EBFA;\n",
              "      box-shadow: 0px 1px 2px rgba(60, 64, 67, 0.3), 0px 1px 3px 1px rgba(60, 64, 67, 0.15);\n",
              "      fill: #174EA6;\n",
              "    }\n",
              "\n",
              "    [theme=dark] .colab-df-convert {\n",
              "      background-color: #3B4455;\n",
              "      fill: #D2E3FC;\n",
              "    }\n",
              "\n",
              "    [theme=dark] .colab-df-convert:hover {\n",
              "      background-color: #434B5C;\n",
              "      box-shadow: 0px 1px 3px 1px rgba(0, 0, 0, 0.15);\n",
              "      filter: drop-shadow(0px 1px 2px rgba(0, 0, 0, 0.3));\n",
              "      fill: #FFFFFF;\n",
              "    }\n",
              "  </style>\n",
              "\n",
              "      <script>\n",
              "        const buttonEl =\n",
              "          document.querySelector('#df-5aef0c74-3a9e-4c17-a405-57aa3a878bf0 button.colab-df-convert');\n",
              "        buttonEl.style.display =\n",
              "          google.colab.kernel.accessAllowed ? 'block' : 'none';\n",
              "\n",
              "        async function convertToInteractive(key) {\n",
              "          const element = document.querySelector('#df-5aef0c74-3a9e-4c17-a405-57aa3a878bf0');\n",
              "          const dataTable =\n",
              "            await google.colab.kernel.invokeFunction('convertToInteractive',\n",
              "                                                     [key], {});\n",
              "          if (!dataTable) return;\n",
              "\n",
              "          const docLinkHtml = 'Like what you see? Visit the ' +\n",
              "            '<a target=\"_blank\" href=https://colab.research.google.com/notebooks/data_table.ipynb>data table notebook</a>'\n",
              "            + ' to learn more about interactive tables.';\n",
              "          element.innerHTML = '';\n",
              "          dataTable['output_type'] = 'display_data';\n",
              "          await google.colab.output.renderOutput(dataTable, element);\n",
              "          const docLink = document.createElement('div');\n",
              "          docLink.innerHTML = docLinkHtml;\n",
              "          element.appendChild(docLink);\n",
              "        }\n",
              "      </script>\n",
              "    </div>\n",
              "  </div>\n",
              "  "
            ]
          },
          "metadata": {},
          "execution_count": 46
        }
      ]
    },
    {
      "cell_type": "code",
      "source": [
        "raw_data = data.copy()"
      ],
      "metadata": {
        "id": "dQoR2u_hK5yI"
      },
      "execution_count": 47,
      "outputs": []
    },
    {
      "cell_type": "markdown",
      "source": [
        "**Text Preprocessing**"
      ],
      "metadata": {
        "id": "sQjvJdYvxL1k"
      }
    },
    {
      "cell_type": "code",
      "source": [
        "def text_preprocessing(text):\n",
        "  text = text.lower() #lowercase\n",
        "  text = re.sub(r'#.+','', text) #menghapus tag\n",
        "  text = re.sub(r'https?://\\S+','', text) #menghapus url\n",
        "  text = re.sub(r'[-+]?[0-9]+','', text) #menghapus angka\n",
        "  text = re.sub(r'[^\\w\\s]','', text) #menghapus tanda baca\n",
        "  text = text.strip() #menghapus whitespace\n",
        "  return text"
      ],
      "metadata": {
        "id": "KftodYNUK5yI"
      },
      "execution_count": 48,
      "outputs": []
    },
    {
      "cell_type": "code",
      "source": [
        "data['Text Tweet'] = data['Text Tweet'].apply(text_preprocessing)\n",
        "data.head()"
      ],
      "metadata": {
        "colab": {
          "base_uri": "https://localhost:8080/",
          "height": 206
        },
        "outputId": "a74a4c59-e9eb-484e-d9ed-3ac24c40c768",
        "id": "qzuDyK5LK5yI"
      },
      "execution_count": 49,
      "outputs": [
        {
          "output_type": "execute_result",
          "data": {
            "text/plain": [
              "                                          Text Tweet  Sentiment\n",
              "0  setiap kesempatan yg pernah hadir tuk dapat me...          1\n",
              "1  kan kupeluk engkau erat hingga tak ada seorang...          1\n",
              "2  kenapa pasangan seringkali diibaratkan sebagai...          1\n",
              "3  ku rindu bisik mu di telingaku seraya kau berk...          1\n",
              "4  halohaa selamat siang denise udah pulang sekol...          1"
            ],
            "text/html": [
              "\n",
              "  <div id=\"df-7882bd73-222b-40b2-b3e0-6e24479d4c49\">\n",
              "    <div class=\"colab-df-container\">\n",
              "      <div>\n",
              "<style scoped>\n",
              "    .dataframe tbody tr th:only-of-type {\n",
              "        vertical-align: middle;\n",
              "    }\n",
              "\n",
              "    .dataframe tbody tr th {\n",
              "        vertical-align: top;\n",
              "    }\n",
              "\n",
              "    .dataframe thead th {\n",
              "        text-align: right;\n",
              "    }\n",
              "</style>\n",
              "<table border=\"1\" class=\"dataframe\">\n",
              "  <thead>\n",
              "    <tr style=\"text-align: right;\">\n",
              "      <th></th>\n",
              "      <th>Text Tweet</th>\n",
              "      <th>Sentiment</th>\n",
              "    </tr>\n",
              "  </thead>\n",
              "  <tbody>\n",
              "    <tr>\n",
              "      <th>0</th>\n",
              "      <td>setiap kesempatan yg pernah hadir tuk dapat me...</td>\n",
              "      <td>1</td>\n",
              "    </tr>\n",
              "    <tr>\n",
              "      <th>1</th>\n",
              "      <td>kan kupeluk engkau erat hingga tak ada seorang...</td>\n",
              "      <td>1</td>\n",
              "    </tr>\n",
              "    <tr>\n",
              "      <th>2</th>\n",
              "      <td>kenapa pasangan seringkali diibaratkan sebagai...</td>\n",
              "      <td>1</td>\n",
              "    </tr>\n",
              "    <tr>\n",
              "      <th>3</th>\n",
              "      <td>ku rindu bisik mu di telingaku seraya kau berk...</td>\n",
              "      <td>1</td>\n",
              "    </tr>\n",
              "    <tr>\n",
              "      <th>4</th>\n",
              "      <td>halohaa selamat siang denise udah pulang sekol...</td>\n",
              "      <td>1</td>\n",
              "    </tr>\n",
              "  </tbody>\n",
              "</table>\n",
              "</div>\n",
              "      <button class=\"colab-df-convert\" onclick=\"convertToInteractive('df-7882bd73-222b-40b2-b3e0-6e24479d4c49')\"\n",
              "              title=\"Convert this dataframe to an interactive table.\"\n",
              "              style=\"display:none;\">\n",
              "        \n",
              "  <svg xmlns=\"http://www.w3.org/2000/svg\" height=\"24px\"viewBox=\"0 0 24 24\"\n",
              "       width=\"24px\">\n",
              "    <path d=\"M0 0h24v24H0V0z\" fill=\"none\"/>\n",
              "    <path d=\"M18.56 5.44l.94 2.06.94-2.06 2.06-.94-2.06-.94-.94-2.06-.94 2.06-2.06.94zm-11 1L8.5 8.5l.94-2.06 2.06-.94-2.06-.94L8.5 2.5l-.94 2.06-2.06.94zm10 10l.94 2.06.94-2.06 2.06-.94-2.06-.94-.94-2.06-.94 2.06-2.06.94z\"/><path d=\"M17.41 7.96l-1.37-1.37c-.4-.4-.92-.59-1.43-.59-.52 0-1.04.2-1.43.59L10.3 9.45l-7.72 7.72c-.78.78-.78 2.05 0 2.83L4 21.41c.39.39.9.59 1.41.59.51 0 1.02-.2 1.41-.59l7.78-7.78 2.81-2.81c.8-.78.8-2.07 0-2.86zM5.41 20L4 18.59l7.72-7.72 1.47 1.35L5.41 20z\"/>\n",
              "  </svg>\n",
              "      </button>\n",
              "      \n",
              "  <style>\n",
              "    .colab-df-container {\n",
              "      display:flex;\n",
              "      flex-wrap:wrap;\n",
              "      gap: 12px;\n",
              "    }\n",
              "\n",
              "    .colab-df-convert {\n",
              "      background-color: #E8F0FE;\n",
              "      border: none;\n",
              "      border-radius: 50%;\n",
              "      cursor: pointer;\n",
              "      display: none;\n",
              "      fill: #1967D2;\n",
              "      height: 32px;\n",
              "      padding: 0 0 0 0;\n",
              "      width: 32px;\n",
              "    }\n",
              "\n",
              "    .colab-df-convert:hover {\n",
              "      background-color: #E2EBFA;\n",
              "      box-shadow: 0px 1px 2px rgba(60, 64, 67, 0.3), 0px 1px 3px 1px rgba(60, 64, 67, 0.15);\n",
              "      fill: #174EA6;\n",
              "    }\n",
              "\n",
              "    [theme=dark] .colab-df-convert {\n",
              "      background-color: #3B4455;\n",
              "      fill: #D2E3FC;\n",
              "    }\n",
              "\n",
              "    [theme=dark] .colab-df-convert:hover {\n",
              "      background-color: #434B5C;\n",
              "      box-shadow: 0px 1px 3px 1px rgba(0, 0, 0, 0.15);\n",
              "      filter: drop-shadow(0px 1px 2px rgba(0, 0, 0, 0.3));\n",
              "      fill: #FFFFFF;\n",
              "    }\n",
              "  </style>\n",
              "\n",
              "      <script>\n",
              "        const buttonEl =\n",
              "          document.querySelector('#df-7882bd73-222b-40b2-b3e0-6e24479d4c49 button.colab-df-convert');\n",
              "        buttonEl.style.display =\n",
              "          google.colab.kernel.accessAllowed ? 'block' : 'none';\n",
              "\n",
              "        async function convertToInteractive(key) {\n",
              "          const element = document.querySelector('#df-7882bd73-222b-40b2-b3e0-6e24479d4c49');\n",
              "          const dataTable =\n",
              "            await google.colab.kernel.invokeFunction('convertToInteractive',\n",
              "                                                     [key], {});\n",
              "          if (!dataTable) return;\n",
              "\n",
              "          const docLinkHtml = 'Like what you see? Visit the ' +\n",
              "            '<a target=\"_blank\" href=https://colab.research.google.com/notebooks/data_table.ipynb>data table notebook</a>'\n",
              "            + ' to learn more about interactive tables.';\n",
              "          element.innerHTML = '';\n",
              "          dataTable['output_type'] = 'display_data';\n",
              "          await google.colab.output.renderOutput(dataTable, element);\n",
              "          const docLink = document.createElement('div');\n",
              "          docLink.innerHTML = docLinkHtml;\n",
              "          element.appendChild(docLink);\n",
              "        }\n",
              "      </script>\n",
              "    </div>\n",
              "  </div>\n",
              "  "
            ]
          },
          "metadata": {},
          "execution_count": 49
        }
      ]
    },
    {
      "cell_type": "markdown",
      "source": [
        "**Pembagian Data training, Data testing, dan Data validation**"
      ],
      "metadata": {
        "id": "AaDfSDLYxvmX"
      }
    },
    {
      "cell_type": "code",
      "source": [
        "from sklearn.model_selection import train_test_split\n",
        "\n",
        "df_train, df_test = train_test_split(data, test_size=0.5, random_state=0)\n",
        "df_val, df_test = train_test_split(df_test, test_size=0.5, random_state=0)\n",
        "df_train.shape, df_test.shape, df_val.shape"
      ],
      "metadata": {
        "colab": {
          "base_uri": "https://localhost:8080/"
        },
        "outputId": "e7186b2f-446e-4f97-e7c8-4c9173859de2",
        "id": "oBydV_3ZK5yI"
      },
      "execution_count": 50,
      "outputs": [
        {
          "output_type": "execute_result",
          "data": {
            "text/plain": [
              "((2200, 2), (1101, 2), (1100, 2))"
            ]
          },
          "metadata": {},
          "execution_count": 50
        }
      ]
    },
    {
      "cell_type": "markdown",
      "source": [
        "**Ekstraksi Fitur dengan IndoBERT**"
      ],
      "metadata": {
        "id": "khuoTyoOyCil"
      }
    },
    {
      "cell_type": "code",
      "source": [
        "from transformers import BertTokenizer\n",
        "\n",
        "bert_tokenizer = BertTokenizer.from_pretrained('indobenchmark/indobert-base-p2')"
      ],
      "metadata": {
        "id": "zhBWRhm9K5yJ"
      },
      "execution_count": 51,
      "outputs": []
    },
    {
      "cell_type": "code",
      "source": [
        "print('kalimat: ', raw_data['Text Tweet'][1])\n",
        "print('Bert tokenizer: ', bert_tokenizer.tokenize(data['Text Tweet'][1]))"
      ],
      "metadata": {
        "id": "1SqQoupYK5yJ",
        "colab": {
          "base_uri": "https://localhost:8080/"
        },
        "outputId": "dd3ff36e-a52b-4f22-a063-83dadf8e6edb"
      },
      "execution_count": 52,
      "outputs": [
        {
          "output_type": "stream",
          "name": "stdout",
          "text": [
            "kalimat:  kan kupeluk engkau erat2 hingga tak ada seorang pun yang bisa merebut mu dari pelukan ku senang anniversary syg #6nov #31months\n",
            "Bert tokenizer:  ['kan', 'kup', '##eluk', 'engkau', 'erat', 'hingga', 'tak', 'ada', 'seorang', 'pun', 'yang', 'bisa', 'merebut', 'mu', 'dari', 'pelukan', 'ku', 'senang', 'ann', '##ivers', '##ary', 'sy', '##g']\n"
          ]
        }
      ]
    },
    {
      "cell_type": "markdown",
      "source": [
        "Add_special_tokens = Menambahkan token [CLS] diawal dan [SEP] diakhir kalimat<br>\n",
        "Padding = menambahkan padding ke max length menggunakan token [PAD] jika kalimat kurang dari max_length<br>\n",
        "truncation = truncate jika kalimat lebih dari max_length"
      ],
      "metadata": {
        "id": "hBUkrA2BylCu"
      }
    },
    {
      "cell_type": "code",
      "source": [
        "bert_input = bert_tokenizer.encode_plus(\n",
        "    data['Text Tweet'][1],\n",
        "    add_special_tokens = True,\n",
        "    padding = 'max_length',\n",
        "    truncation = 'longest_first',\n",
        "    max_length = 50,\n",
        "    return_attention_mask = True,\n",
        "    return_token_type_ids = True\n",
        ")\n",
        "bert_input.keys()"
      ],
      "metadata": {
        "id": "FecczTRiK5yJ",
        "colab": {
          "base_uri": "https://localhost:8080/"
        },
        "outputId": "7e3687e5-cc1f-4873-b014-9f51aff5044c"
      },
      "execution_count": 53,
      "outputs": [
        {
          "output_type": "execute_result",
          "data": {
            "text/plain": [
              "dict_keys(['input_ids', 'token_type_ids', 'attention_mask'])"
            ]
          },
          "metadata": {},
          "execution_count": 53
        }
      ]
    },
    {
      "cell_type": "code",
      "source": [
        "# token_lens = []\n",
        "# for txt in data['Text Tweet']:\n",
        "#   tokens = bert_tokenizer.encode(txt)\n",
        "#   token_lens.append(len(tokens))\n",
        "# sns.histplot(token_lens, kde = True, stat='density', linewidth = 0)\n",
        "# plt.xlim([0, 100]);\n",
        "# plt.xlabel('Token count');"
      ],
      "metadata": {
        "id": "x5ytKMhvK5yJ"
      },
      "execution_count": 54,
      "outputs": []
    },
    {
      "cell_type": "code",
      "source": [
        "def convert_example_to_feature(sentence):\n",
        "  return bert_tokenizer.encode_plus(\n",
        "      sentence,\n",
        "      add_special_tokens = True,\n",
        "      padding = 'max_length',\n",
        "      truncation = 'longest_first',\n",
        "      max_length = 42,\n",
        "      return_attention_mask = True,\n",
        "      return_token_type_ids = True\n",
        "  )"
      ],
      "metadata": {
        "id": "q7YCKUvFK5yJ"
      },
      "execution_count": 55,
      "outputs": []
    },
    {
      "cell_type": "code",
      "source": [
        "def map_example_to_dict(input_ids, attention_masks, token_type_ids, label):\n",
        "  return {\n",
        "      \"input_ids\": input_ids,\n",
        "      \"token_type_ids\": token_type_ids,\n",
        "      \"attention_mask\": attention_masks,\n",
        "  }, label"
      ],
      "metadata": {
        "id": "xBT1vU_8K5yJ"
      },
      "execution_count": 56,
      "outputs": []
    },
    {
      "cell_type": "code",
      "source": [
        "def encode(data):\n",
        "  input_ids_list = []\n",
        "  token_type_ids_list = []\n",
        "  attention_mask_list = []\n",
        "  label_list = []\n",
        "  \n",
        "  for sentence, label in data.to_numpy():\n",
        "    bert_input = convert_example_to_feature(sentence)\n",
        "    input_ids_list.append(bert_input['input_ids'])\n",
        "    token_type_ids_list.append(bert_input['token_type_ids'])\n",
        "    attention_mask_list.append(bert_input['attention_mask'])\n",
        "    label_list.append([label])\n",
        "  return tf.data.Dataset.from_tensor_slices((input_ids_list, attention_mask_list, token_type_ids_list, label_list)).map(map_example_to_dict)"
      ],
      "metadata": {
        "id": "9E-sJoLXK5yJ"
      },
      "execution_count": 57,
      "outputs": []
    },
    {
      "cell_type": "code",
      "source": [
        "train_encoded = encode(df_train).batch(32)\n",
        "test_encoded = encode(df_test).batch(32)\n",
        "val_encoded = encode(df_val).batch(32)"
      ],
      "metadata": {
        "id": "cUBIbN77K5yJ"
      },
      "execution_count": 58,
      "outputs": []
    },
    {
      "cell_type": "markdown",
      "source": [
        "**Menggunakan model pre-trained IndoBERT**"
      ],
      "metadata": {
        "id": "nvRqxV8x4rHV"
      }
    },
    {
      "cell_type": "code",
      "source": [
        "from transformers import TFBertForSequenceClassification\n",
        "bert_model = TFBertForSequenceClassification.from_pretrained('indobenchmark/indobert-base-p2',\n",
        "                                                             num_labels = 5,\n",
        "                                                             hidden_dropout_prob = 0.5,\n",
        "                                                             attention_probs_dropout_prob = 0.5)"
      ],
      "metadata": {
        "id": "M0TBdKUuK5yK",
        "colab": {
          "base_uri": "https://localhost:8080/"
        },
        "outputId": "1bb52318-6e44-422a-931f-d22ccad026ce"
      },
      "execution_count": 59,
      "outputs": [
        {
          "output_type": "stream",
          "name": "stderr",
          "text": [
            "All model checkpoint layers were used when initializing TFBertForSequenceClassification.\n",
            "\n",
            "Some layers of TFBertForSequenceClassification were not initialized from the model checkpoint at indobenchmark/indobert-base-p2 and are newly initialized: ['classifier']\n",
            "You should probably TRAIN this model on a down-stream task to be able to use it for predictions and inference.\n"
          ]
        }
      ]
    },
    {
      "cell_type": "markdown",
      "source": [
        "**Model compile**"
      ],
      "metadata": {
        "id": "2rBX4L1T48P8"
      }
    },
    {
      "cell_type": "code",
      "source": [
        "bert_model.compile(\n",
        "    optimizer = tf.keras.optimizers.Adam(learning_rate = 0.00002),\n",
        "    loss = tf.keras.losses.SparseCategoricalCrossentropy(from_logits = True),\n",
        "    metrics = tf.keras.metrics.SparseCategoricalAccuracy('accuracy')\n",
        ")"
      ],
      "metadata": {
        "id": "_MLZqwxOK5yK"
      },
      "execution_count": 60,
      "outputs": []
    },
    {
      "cell_type": "markdown",
      "source": [
        "**Menggunakan Early Stopping untuk mencegah overfitting**"
      ],
      "metadata": {
        "id": "0xAh_6Jq5Hn3"
      }
    },
    {
      "cell_type": "code",
      "source": [
        "callback_ES = tf.keras.callbacks.EarlyStopping(\n",
        "    monitor='accuracy',\n",
        "    min_delta=0.05,\n",
        "    patience=2,\n",
        "    verbose=0,\n",
        "    mode='auto',\n",
        "    baseline=None,\n",
        "    restore_best_weights=False\n",
        ")"
      ],
      "metadata": {
        "id": "2WH_HWDyntAJ"
      },
      "execution_count": 61,
      "outputs": []
    },
    {
      "cell_type": "code",
      "source": [
        "bert_history = bert_model.fit(train_encoded, epochs = 15,\n",
        "                              batch_size = 32,\n",
        "                              validation_data = val_encoded,\n",
        "                              callbacks = [callback_ES])"
      ],
      "metadata": {
        "id": "qw6Bw0PlK5yK",
        "colab": {
          "base_uri": "https://localhost:8080/"
        },
        "outputId": "c3a0219f-6c5c-477e-8c0e-c7f662ed1921"
      },
      "execution_count": 62,
      "outputs": [
        {
          "output_type": "stream",
          "name": "stdout",
          "text": [
            "Epoch 1/15\n",
            "69/69 [==============================] - 44s 395ms/step - loss: 1.5067 - accuracy: 0.3164 - val_loss: 1.2192 - val_accuracy: 0.5382\n",
            "Epoch 2/15\n",
            "69/69 [==============================] - 24s 350ms/step - loss: 1.2118 - accuracy: 0.5095 - val_loss: 0.9938 - val_accuracy: 0.5818\n",
            "Epoch 3/15\n",
            "69/69 [==============================] - 24s 353ms/step - loss: 1.0207 - accuracy: 0.6027 - val_loss: 0.9469 - val_accuracy: 0.6218\n",
            "Epoch 4/15\n",
            "69/69 [==============================] - 24s 347ms/step - loss: 0.8896 - accuracy: 0.6682 - val_loss: 0.9029 - val_accuracy: 0.6591\n",
            "Epoch 5/15\n",
            "69/69 [==============================] - 24s 348ms/step - loss: 0.8018 - accuracy: 0.7059 - val_loss: 0.8779 - val_accuracy: 0.6836\n",
            "Epoch 6/15\n",
            "69/69 [==============================] - 24s 350ms/step - loss: 0.7129 - accuracy: 0.7473 - val_loss: 0.8824 - val_accuracy: 0.6773\n",
            "Epoch 7/15\n",
            "69/69 [==============================] - 24s 353ms/step - loss: 0.6814 - accuracy: 0.7645 - val_loss: 1.0017 - val_accuracy: 0.6700\n",
            "Epoch 8/15\n",
            "69/69 [==============================] - 24s 352ms/step - loss: 0.6087 - accuracy: 0.7905 - val_loss: 0.8944 - val_accuracy: 0.7009\n"
          ]
        }
      ]
    },
    {
      "cell_type": "code",
      "source": [
        "def plot_graphs(history, string):\n",
        "  plt.plot(history.history[string])\n",
        "  plt.plot(history.history['val_'+string])\n",
        "  plt.xlabel('Epochs')\n",
        "  plt.ylabel(string)\n",
        "  plt.legend([string, 'val_'+string])\n",
        "  plt.show()"
      ],
      "metadata": {
        "id": "fwj3vNuPK5yK"
      },
      "execution_count": 63,
      "outputs": []
    },
    {
      "cell_type": "code",
      "source": [
        "plot_graphs(bert_history, 'accuracy')\n",
        "plot_graphs(bert_history, 'loss')"
      ],
      "metadata": {
        "id": "ktDWib9QK5yK",
        "colab": {
          "base_uri": "https://localhost:8080/",
          "height": 541
        },
        "outputId": "669cffb0-6e88-45ce-8bdd-874ef30e0320"
      },
      "execution_count": 64,
      "outputs": [
        {
          "output_type": "display_data",
          "data": {
            "text/plain": [
              "<Figure size 432x288 with 1 Axes>"
            ],
            "image/png": "[encoded data removed]"
          },
          "metadata": {
            "needs_background": "light"
          }
        },
        {
          "output_type": "display_data",
          "data": {
            "text/plain": [
              "<Figure size 432x288 with 1 Axes>"
            ],
            "image/png": "[encoded data removed]"
          },
          "metadata": {
            "needs_background": "light"
          }
        }
      ]
    },
    {
      "cell_type": "code",
      "source": [
        "print('\\nEpoch No.  Train Accuracy  Train Loss      Val Accuracy    Val Loss')\n",
        "for i in range(3):\n",
        "  print('{:8d} {:10f} \\t {:10f} \\t {:10f} \\t {:10f}'.format(i + 1, bert_history.history['accuracy'][i],\n",
        "                                                            bert_history.history['loss'][i],\n",
        "                                                            bert_history.history['val_accuracy'][i],\n",
        "                                                            bert_history.history['val_loss'][i]))"
      ],
      "metadata": {
        "id": "70MM1cLyK5yK",
        "colab": {
          "base_uri": "https://localhost:8080/"
        },
        "outputId": "34e17e80-d2bc-41ba-efe6-80c85e9ee8d3"
      },
      "execution_count": 65,
      "outputs": [
        {
          "output_type": "stream",
          "name": "stdout",
          "text": [
            "\n",
            "Epoch No.  Train Accuracy  Train Loss      Val Accuracy    Val Loss\n",
            "       1   0.316364 \t   1.506731 \t   0.538182 \t   1.219162\n",
            "       2   0.509545 \t   1.211792 \t   0.581818 \t   0.993803\n",
            "       3   0.602727 \t   1.020678 \t   0.621818 \t   0.946935\n"
          ]
        }
      ]
    },
    {
      "cell_type": "code",
      "source": [
        "bert_model.save_weights('bert-model.h5')"
      ],
      "metadata": {
        "id": "nDsj6B90K5yK"
      },
      "execution_count": 66,
      "outputs": []
    },
    {
      "cell_type": "code",
      "source": [
        "score = bert_model.evaluate(test_encoded)\n",
        "print(\"Test Accuracy: \", score[1])"
      ],
      "metadata": {
        "id": "iqFjfHZOK5yK",
        "colab": {
          "base_uri": "https://localhost:8080/"
        },
        "outputId": "72edc078-b490-47ca-f051-d2c0cf5135d2"
      },
      "execution_count": 67,
      "outputs": [
        {
          "output_type": "stream",
          "name": "stdout",
          "text": [
            "35/35 [==============================] - 4s 101ms/step - loss: 1.0011 - accuracy: 0.6821\n",
            "Test Accuracy:  0.682107150554657\n"
          ]
        }
      ]
    },
    {
      "cell_type": "code",
      "source": [
        "score"
      ],
      "metadata": {
        "id": "IxM3RlzFZJV0",
        "colab": {
          "base_uri": "https://localhost:8080/"
        },
        "outputId": "d1e6be87-e217-4664-ce11-703a7175711d"
      },
      "execution_count": 68,
      "outputs": [
        {
          "output_type": "execute_result",
          "data": {
            "text/plain": [
              "[1.0011351108551025, 0.682107150554657]"
            ]
          },
          "metadata": {},
          "execution_count": 68
        }
      ]
    },
    {
      "cell_type": "code",
      "source": [
        "predicted_raw = bert_model.predict(test_encoded)"
      ],
      "metadata": {
        "id": "IoRlzPEiK5yK",
        "colab": {
          "base_uri": "https://localhost:8080/"
        },
        "outputId": "a69cca88-3ccd-4fcf-eae3-85ab5530e0e5"
      },
      "execution_count": 69,
      "outputs": [
        {
          "output_type": "stream",
          "name": "stdout",
          "text": [
            "35/35 [==============================] - 6s 99ms/step\n"
          ]
        }
      ]
    },
    {
      "cell_type": "code",
      "source": [
        "y_pred = np.argmax(predicted_raw['logits'], axis=1)\n",
        "y_true = np.array(df_test['Sentiment'])"
      ],
      "metadata": {
        "id": "q_MxQN6zK5yL"
      },
      "execution_count": 70,
      "outputs": []
    },
    {
      "cell_type": "code",
      "source": [
        "from sklearn.metrics import accuracy_score\n",
        "from sklearn.metrics import confusion_matrix\n",
        "from sklearn.metrics import classification_report\n",
        "\n",
        "accuracy_score(y_true, y_pred)"
      ],
      "metadata": {
        "id": "CQ8bByz7K5yL",
        "colab": {
          "base_uri": "https://localhost:8080/"
        },
        "outputId": "bf779d7d-7b97-4fad-fe11-daad7cb86fd7"
      },
      "execution_count": 71,
      "outputs": [
        {
          "output_type": "execute_result",
          "data": {
            "text/plain": [
              "0.6821071752951862"
            ]
          },
          "metadata": {},
          "execution_count": 71
        }
      ]
    },
    {
      "cell_type": "code",
      "source": [
        "cf_matrix = confusion_matrix(y_true, y_pred)\n",
        "cf_matrix"
      ],
      "metadata": {
        "id": "Dfnh3k5pK5yL",
        "colab": {
          "base_uri": "https://localhost:8080/"
        },
        "outputId": "8d0bb6e0-2e35-4084-9446-65cf341882c0"
      },
      "execution_count": 72,
      "outputs": [
        {
          "output_type": "execute_result",
          "data": {
            "text/plain": [
              "array([[186,  10,  51,  28,  36],\n",
              "       [  0, 154,   6,  14,   2],\n",
              "       [ 14,  32, 126,  37,  32],\n",
              "       [  8,  26,  16, 174,   8],\n",
              "       [  9,   2,  14,   5, 111]])"
            ]
          },
          "metadata": {},
          "execution_count": 72
        }
      ]
    },
    {
      "cell_type": "markdown",
      "source": [
        "Hasil akurasi dengan model pre-trained indoBERT"
      ],
      "metadata": {
        "id": "9qRhjRys5mij"
      }
    },
    {
      "cell_type": "code",
      "source": [
        "sns.heatmap(cf_matrix, annot=True)"
      ],
      "metadata": {
        "colab": {
          "base_uri": "https://localhost:8080/",
          "height": 282
        },
        "id": "SEQj1Drc31EW",
        "outputId": "f8ca675c-540d-4f4e-c7f7-403ec4c9de79"
      },
      "execution_count": 73,
      "outputs": [
        {
          "output_type": "execute_result",
          "data": {
            "text/plain": [
              "<matplotlib.axes._subplots.AxesSubplot at 0x7f28edb447f0>"
            ]
          },
          "metadata": {},
          "execution_count": 73
        },
        {
          "output_type": "display_data",
          "data": {
            "text/plain": [
              "<Figure size 432x288 with 2 Axes>"
            ],
            "image/png": "[encoded data removed]"
          },
          "metadata": {
            "needs_background": "light"
          }
        }
      ]
    },
    {
      "cell_type": "code",
      "source": [
        "sns.heatmap(cf_matrix/np.sum(cf_matrix), annot=True, \n",
        "            fmt='.2%', cmap='Blues')"
      ],
      "metadata": {
        "colab": {
          "base_uri": "https://localhost:8080/",
          "height": 282
        },
        "id": "HPn-BlJW2Ll4",
        "outputId": "9411b06e-5483-4f7a-84d9-84f8806d66b1"
      },
      "execution_count": 74,
      "outputs": [
        {
          "output_type": "execute_result",
          "data": {
            "text/plain": [
              "<matplotlib.axes._subplots.AxesSubplot at 0x7f2709a55700>"
            ]
          },
          "metadata": {},
          "execution_count": 74
        },
        {
          "output_type": "display_data",
          "data": {
            "text/plain": [
              "<Figure size 432x288 with 2 Axes>"
            ],
            "image/png": "[encoded data removed]"
          },
          "metadata": {
            "needs_background": "light"
          }
        }
      ]
    },
    {
      "cell_type": "code",
      "source": [
        "print(classification_report(y_true, y_pred))"
      ],
      "metadata": {
        "id": "2zkTncnhK5yL",
        "colab": {
          "base_uri": "https://localhost:8080/"
        },
        "outputId": "b58c7716-1395-4357-e562-3e1cf220a1e6"
      },
      "execution_count": 75,
      "outputs": [
        {
          "output_type": "stream",
          "name": "stdout",
          "text": [
            "              precision    recall  f1-score   support\n",
            "\n",
            "           0       0.86      0.60      0.70       311\n",
            "           1       0.69      0.88      0.77       176\n",
            "           2       0.59      0.52      0.56       241\n",
            "           3       0.67      0.75      0.71       232\n",
            "           4       0.59      0.79      0.67       141\n",
            "\n",
            "    accuracy                           0.68      1101\n",
            "   macro avg       0.68      0.71      0.68      1101\n",
            "weighted avg       0.70      0.68      0.68      1101\n",
            "\n"
          ]
        }
      ]
    },
    {
      "cell_type": "code",
      "source": [
        "bert_load_model = TFBertForSequenceClassification.from_pretrained('indobenchmark/indobert-base-p2', num_labels = 5)\n",
        "bert_load_model.load_weights('bert-model.h5')"
      ],
      "metadata": {
        "id": "wehMJ3EaK5yL",
        "colab": {
          "base_uri": "https://localhost:8080/"
        },
        "outputId": "a0ef8611-6732-412d-975d-f7dfb233dcd2"
      },
      "execution_count": 76,
      "outputs": [
        {
          "output_type": "stream",
          "name": "stderr",
          "text": [
            "All model checkpoint layers were used when initializing TFBertForSequenceClassification.\n",
            "\n",
            "Some layers of TFBertForSequenceClassification were not initialized from the model checkpoint at indobenchmark/indobert-base-p2 and are newly initialized: ['classifier']\n",
            "You should probably TRAIN this model on a down-stream task to be able to use it for predictions and inference.\n"
          ]
        }
      ]
    },
    {
      "cell_type": "markdown",
      "source": [
        "**Test Prediksi dengan Input**"
      ],
      "metadata": {
        "id": "cTJZF_PN57uQ"
      }
    },
    {
      "cell_type": "code",
      "source": [
        "# input_text = 'filmkartini menginspirasi untuk berjuang menjunjung nilai kebenaran bukan dominasi penguasa dan kekakuan budaya'\n",
        "input_text = 'Kerjaku dadi terhambat tenan, padahal wes tresno ro ihehon terosss lho.'\n",
        "\n",
        "input_text_tokenized = bert_tokenizer.encode(input_text,\n",
        "                                             truncation = True,\n",
        "                                             padding = 'max_length',\n",
        "                                             return_tensors = 'tf')"
      ],
      "metadata": {
        "id": "54gE61kWK5yL"
      },
      "execution_count": 81,
      "outputs": []
    },
    {
      "cell_type": "code",
      "source": [
        "bert_predict = bert_load_model(input_text_tokenized)\n",
        "bert_output = tf.nn.softmax(bert_predict[0], axis = -1)"
      ],
      "metadata": {
        "id": "0_tkyZAgK5yL"
      },
      "execution_count": 82,
      "outputs": []
    },
    {
      "cell_type": "code",
      "source": [
        "sentiment_labels = ['Marah', 'Cinta', 'Sedih', 'Senang', 'Takut']\n",
        "label = tf.argmax(bert_output, axis = 1)\n",
        "label = label.numpy()"
      ],
      "metadata": {
        "id": "N-LrKxUpK5yL"
      },
      "execution_count": 83,
      "outputs": []
    },
    {
      "cell_type": "code",
      "source": [
        "print(input_text, ':', sentiment_labels[label[0]])"
      ],
      "metadata": {
        "id": "WuYwovGZK5yL",
        "colab": {
          "base_uri": "https://localhost:8080/"
        },
        "outputId": "80f0cb1d-a855-4cde-99a0-91fbeceac6f9"
      },
      "execution_count": 84,
      "outputs": [
        {
          "output_type": "stream",
          "name": "stdout",
          "text": [
            "Kerjaku dadi terhambat tenan, padahal wes tresno ro ihehon terosss lho. : Marah\n"
          ]
        }
      ]
    }
  ]
}